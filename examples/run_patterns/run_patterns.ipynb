{
 "metadata": {
  "language_info": {
   "codemirror_mode": {
    "name": "ipython",
    "version": 3
   },
   "file_extension": ".py",
   "mimetype": "text/x-python",
   "name": "python",
   "nbconvert_exporter": "python",
   "pygments_lexer": "ipython3",
   "version": "3.8.2-final"
  },
  "orig_nbformat": 2,
  "kernelspec": {
   "name": "python_defaultSpec_1600218423960",
   "display_name": "Python 3.8.2 64-bit ('env': venv)"
  }
 },
 "nbformat": 4,
 "nbformat_minor": 2,
 "cells": [
  {
   "cell_type": "markdown",
   "metadata": {},
   "source": [
    "# Modules\n",
    "GameDataset is a class that will hold methods and data for one game. PatternsSet is a calss that willhold methods, patterns, and pattern_events data for this game. "
   ]
  },
  {
   "cell_type": "code",
   "execution_count": 3,
   "metadata": {},
   "outputs": [],
   "source": [
    "import sys\n",
    "sys.path.insert(1, '../../')\n",
    "\n",
    "from codeball import GameDataset, PatternsSet"
   ]
  },
  {
   "cell_type": "markdown",
   "metadata": {},
   "source": [
    "\n",
    "# Initialize GameDataset\n",
    "\n",
    "Define data files. Currently reading the files in the test folder of the package. Initialize game dataset. This loads the data for each data type using Kloppy, and then stores it on game_dataset as instances of TrackinDataFrame and EventsDataFrame. Both of them are subclasses of a pandas Dataframe. Other than holding the data in a dataframe, they also have methods to work with, filter etc the data they contain."
   ]
  },
  {
   "cell_type": "code",
   "execution_count": 5,
   "metadata": {},
   "outputs": [],
   "source": [
    "\n",
    "metadata_file = (r\"../../codeball/tests/files/metadata.xml\")\n",
    "tracking_file = (r\"../../codeball/tests/files/tracking.txt\")\n",
    "events_file = (r\"../../codeball/tests/files/events.json\")\n",
    "\n",
    "game_dataset = GameDataset(\n",
    "    tracking_metadata_file=metadata_file,\n",
    "    tracking_data_file=tracking_file,\n",
    "    events_metadata_file=metadata_file,\n",
    "    events_data_file=events_file,\n",
    ")"
   ]
  },
  {
   "cell_type": "markdown",
   "metadata": {},
   "source": [
    "# Instantiate PatternSet and run and export patterns for play. \n",
    "The first step is to instantiate a PatternsSet instance. It takes as arugment a GameDataset instance so that all patterns can have access to the data of the game. Conceptually a pattern is an analysis that will return the moments in the game a certain thing happend, with that thing being defined in the pattern / analysis. For example, look for all passes into the box. \n",
    "\n",
    "Next step is to initialize the patterns by reading the patterns config from ../codeball/patterns/patterns_config.json. However you can specify your own pattern config by providing it as an input to initialize_patterns. Then `run_patterns` iterates over all the patterns in the PatternSet and runs them. Finally, `save_patterns_for_play` method takes all the Patterns and PatternEvents in the PatternsSet and outputs them on a json fotmat that can be imported into Metrica Play via Metrica Cloud. \n",
    "\n",
    "If you didn't clone the repo, you can get the config file [here](https://github.com/metrica-sports/codeball/blob/master/codeball/patterns/patterns_config.json).\n"
   ]
  },
  {
   "cell_type": "code",
   "execution_count": 8,
   "metadata": {},
   "outputs": [],
   "source": [
    "patterns_set = PatternsSet(game_dataset=game_dataset)\n",
    "\n",
    "patterns_set.initialize_patterns(config_file=r\"../../codeball/patterns/patterns_config.json\")\n",
    " \n",
    "patterns_set.run_patterns()\n",
    "\n",
    "patterns_set.save_patterns_for_play(\"output.patt\")"
   ]
  }
 ]
}