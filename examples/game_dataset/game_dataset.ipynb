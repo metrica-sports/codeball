{
 "metadata": {
  "language_info": {
   "codemirror_mode": {
    "name": "ipython",
    "version": 3
   },
   "file_extension": ".py",
   "mimetype": "text/x-python",
   "name": "python",
   "nbconvert_exporter": "python",
   "pygments_lexer": "ipython3",
   "version": "3.8.2-final"
  },
  "orig_nbformat": 2,
  "kernelspec": {
   "name": "python_defaultSpec_1599830137598",
   "display_name": "Python 3.8.2 64-bit ('env': venv)"
  }
 },
 "nbformat": 4,
 "nbformat_minor": 2,
 "cells": [
  {
   "source": [
    "# Initialize a GameDataset and some sample operations\n",
    "\n",
    "A GameDatset instance can contain tracking and events data in a TrackingFrame and EventsFrame respectively. "
   ],
   "cell_type": "markdown",
   "metadata": {}
  },
  {
   "cell_type": "code",
   "execution_count": 2,
   "metadata": {
    "tags": []
   },
   "outputs": [
    {
     "output_type": "stream",
     "name": "stdout",
     "text": "<class 'codeball.codeball_frames.TrackingFrame'>\n<class 'codeball.codeball_frames.EventsFrame'>\n"
    }
   ],
   "source": [
    "import sys\n",
    "sys.path.insert(1, '../../')\n",
    "\n",
    "from codeball import GameDataset, Zones\n",
    "\n",
    "metadata_file = (r\"../../codeball/tests/files/metadata.xml\")\n",
    "tracking_file = (r\"../../codeball/tests/files/tracking.txt\")\n",
    "events_file = (r\"../../codeball/tests/files/events.json\")\n",
    "\n",
    "game_dataset = GameDataset(\n",
    "    tracking_metadata_file=metadata_file,\n",
    "    tracking_data_file=tracking_file,\n",
    "    events_metadata_file=metadata_file,\n",
    "    events_data_file=events_file,\n",
    ")\n",
    "\n",
    "print(type(game_dataset.tracking))\n",
    "print(type(game_dataset.events))"
   ]
  },
  {
   "cell_type": "markdown",
   "metadata": {},
   "source": [
    "## Tracking\n",
    "\n",
    "GameDataset.tracking holds a TrackingFrame with all the tacking data of the game. "
   ]
  },
  {
   "cell_type": "code",
   "execution_count": 7,
   "metadata": {},
   "outputs": [
    {
     "output_type": "execute_result",
     "data": {
      "text/plain": "   period_id  timestamp ball_state ball_owning_team_id  ball_x  ball_y  \\\n0          1       0.04       None                None     NaN     NaN   \n1          1       0.08       None                None     NaN     NaN   \n2          1       0.12       None                None     NaN     NaN   \n3          1       0.16       None                None     NaN     NaN   \n4          1       0.20       None                None     NaN     NaN   \n\n   P3578_x  P3578_y  P3568_x  P3568_y  ...  P3590_x  P3590_y  P3591_x  \\\n0  0.84722  0.52855  0.65268  0.24792  ...  0.41381  0.52790  0.41787   \n1  0.84722  0.52855  0.65231  0.24513  ...  0.41375  0.52780  0.41719   \n2  0.84722  0.52855  0.65197  0.24387  ...  0.41371  0.52906  0.41697   \n3  0.84722  0.52855  0.65166  0.24288  ...  0.41370  0.53056  0.41685   \n4  0.84722  0.52855  0.65141  0.24251  ...  0.41369  0.53151  0.41669   \n\n   P3591_y  P3592_x  P3592_y  P3593_x  P3593_y  P3594_x  P3594_y  \n0  0.48086  0.41215  0.36689  0.47050  0.73219  0.48864  0.36357  \n1  0.47864  0.41132  0.36169  0.47040  0.73204  0.48834  0.36362  \n2  0.47824  0.41131  0.36072  0.47075  0.73229  0.48814  0.36372  \n3  0.47815  0.41117  0.35930  0.47118  0.73266  0.48793  0.36278  \n4  0.47749  0.41120  0.35910  0.47163  0.73287  0.48784  0.36240  \n\n[5 rows x 50 columns]",
      "text/html": "<div>\n<style scoped>\n    .dataframe tbody tr th:only-of-type {\n        vertical-align: middle;\n    }\n\n    .dataframe tbody tr th {\n        vertical-align: top;\n    }\n\n    .dataframe thead th {\n        text-align: right;\n    }\n</style>\n<table border=\"1\" class=\"dataframe\">\n  <thead>\n    <tr style=\"text-align: right;\">\n      <th></th>\n      <th>period_id</th>\n      <th>timestamp</th>\n      <th>ball_state</th>\n      <th>ball_owning_team_id</th>\n      <th>ball_x</th>\n      <th>ball_y</th>\n      <th>P3578_x</th>\n      <th>P3578_y</th>\n      <th>P3568_x</th>\n      <th>P3568_y</th>\n      <th>...</th>\n      <th>P3590_x</th>\n      <th>P3590_y</th>\n      <th>P3591_x</th>\n      <th>P3591_y</th>\n      <th>P3592_x</th>\n      <th>P3592_y</th>\n      <th>P3593_x</th>\n      <th>P3593_y</th>\n      <th>P3594_x</th>\n      <th>P3594_y</th>\n    </tr>\n  </thead>\n  <tbody>\n    <tr>\n      <th>0</th>\n      <td>1</td>\n      <td>0.04</td>\n      <td>None</td>\n      <td>None</td>\n      <td>NaN</td>\n      <td>NaN</td>\n      <td>0.84722</td>\n      <td>0.52855</td>\n      <td>0.65268</td>\n      <td>0.24792</td>\n      <td>...</td>\n      <td>0.41381</td>\n      <td>0.52790</td>\n      <td>0.41787</td>\n      <td>0.48086</td>\n      <td>0.41215</td>\n      <td>0.36689</td>\n      <td>0.47050</td>\n      <td>0.73219</td>\n      <td>0.48864</td>\n      <td>0.36357</td>\n    </tr>\n    <tr>\n      <th>1</th>\n      <td>1</td>\n      <td>0.08</td>\n      <td>None</td>\n      <td>None</td>\n      <td>NaN</td>\n      <td>NaN</td>\n      <td>0.84722</td>\n      <td>0.52855</td>\n      <td>0.65231</td>\n      <td>0.24513</td>\n      <td>...</td>\n      <td>0.41375</td>\n      <td>0.52780</td>\n      <td>0.41719</td>\n      <td>0.47864</td>\n      <td>0.41132</td>\n      <td>0.36169</td>\n      <td>0.47040</td>\n      <td>0.73204</td>\n      <td>0.48834</td>\n      <td>0.36362</td>\n    </tr>\n    <tr>\n      <th>2</th>\n      <td>1</td>\n      <td>0.12</td>\n      <td>None</td>\n      <td>None</td>\n      <td>NaN</td>\n      <td>NaN</td>\n      <td>0.84722</td>\n      <td>0.52855</td>\n      <td>0.65197</td>\n      <td>0.24387</td>\n      <td>...</td>\n      <td>0.41371</td>\n      <td>0.52906</td>\n      <td>0.41697</td>\n      <td>0.47824</td>\n      <td>0.41131</td>\n      <td>0.36072</td>\n      <td>0.47075</td>\n      <td>0.73229</td>\n      <td>0.48814</td>\n      <td>0.36372</td>\n    </tr>\n    <tr>\n      <th>3</th>\n      <td>1</td>\n      <td>0.16</td>\n      <td>None</td>\n      <td>None</td>\n      <td>NaN</td>\n      <td>NaN</td>\n      <td>0.84722</td>\n      <td>0.52855</td>\n      <td>0.65166</td>\n      <td>0.24288</td>\n      <td>...</td>\n      <td>0.41370</td>\n      <td>0.53056</td>\n      <td>0.41685</td>\n      <td>0.47815</td>\n      <td>0.41117</td>\n      <td>0.35930</td>\n      <td>0.47118</td>\n      <td>0.73266</td>\n      <td>0.48793</td>\n      <td>0.36278</td>\n    </tr>\n    <tr>\n      <th>4</th>\n      <td>1</td>\n      <td>0.20</td>\n      <td>None</td>\n      <td>None</td>\n      <td>NaN</td>\n      <td>NaN</td>\n      <td>0.84722</td>\n      <td>0.52855</td>\n      <td>0.65141</td>\n      <td>0.24251</td>\n      <td>...</td>\n      <td>0.41369</td>\n      <td>0.53151</td>\n      <td>0.41669</td>\n      <td>0.47749</td>\n      <td>0.41120</td>\n      <td>0.35910</td>\n      <td>0.47163</td>\n      <td>0.73287</td>\n      <td>0.48784</td>\n      <td>0.36240</td>\n    </tr>\n  </tbody>\n</table>\n<p>5 rows × 50 columns</p>\n</div>"
     },
     "metadata": {},
     "execution_count": 7
    }
   ],
   "source": [
    "game_dataset.tracking.head()"
   ]
  },
  {
   "cell_type": "markdown",
   "metadata": {},
   "source": [
    "If you want to filter the TrackingFrame, you can use it's methods (on top of all standard DataFrame methods). For example to get a TrackingFrame only with the data of team with team_id `FIFATMA` you can do:"
   ]
  },
  {
   "cell_type": "code",
   "execution_count": 8,
   "metadata": {},
   "outputs": [
    {
     "output_type": "execute_result",
     "data": {
      "text/plain": "   P3578_x  P3578_y  P3568_x  P3568_y  P3569_x  P3569_y  P3570_x  P3570_y  \\\n0  0.84722  0.52855  0.65268  0.24792  0.66525  0.46562  0.68103  0.59083   \n1  0.84722  0.52855  0.65231  0.24513  0.66482  0.46548  0.68095  0.59054   \n2  0.84722  0.52855  0.65197  0.24387  0.66467  0.46537  0.68078  0.59035   \n3  0.84722  0.52855  0.65166  0.24288  0.66460  0.46488  0.68063  0.58987   \n4  0.84722  0.52855  0.65141  0.24251  0.66452  0.46469  0.68052  0.58934   \n\n   P3571_x  P3571_y  ...  P3573_x  P3573_y  P3574_x  P3574_y  P3575_x  \\\n0  0.62405  0.80669  ...  0.60798  0.45155  0.50212  0.45314  0.62012   \n1  0.62371  0.80594  ...  0.60783  0.44918  0.50158  0.45544  0.61987   \n2  0.62354  0.80601  ...  0.60779  0.44866  0.50126  0.45662  0.61980   \n3  0.62318  0.80604  ...  0.60762  0.44898  0.50119  0.45815  0.61976   \n4  0.62286  0.80626  ...  0.60748  0.44888  0.50114  0.45986  0.61967   \n\n   P3575_y  P3576_x  P3576_y  P3577_x  P3577_y  \n0  0.60667  0.51839  0.77140  0.50555  0.50863  \n1  0.60474  0.51801  0.77130  0.50545  0.50532  \n2  0.60422  0.51787  0.77080  0.50552  0.50524  \n3  0.60397  0.51773  0.77031  0.50563  0.50524  \n4  0.60417  0.51759  0.77008  0.50576  0.50531  \n\n[5 rows x 22 columns]",
      "text/html": "<div>\n<style scoped>\n    .dataframe tbody tr th:only-of-type {\n        vertical-align: middle;\n    }\n\n    .dataframe tbody tr th {\n        vertical-align: top;\n    }\n\n    .dataframe thead th {\n        text-align: right;\n    }\n</style>\n<table border=\"1\" class=\"dataframe\">\n  <thead>\n    <tr style=\"text-align: right;\">\n      <th></th>\n      <th>P3578_x</th>\n      <th>P3578_y</th>\n      <th>P3568_x</th>\n      <th>P3568_y</th>\n      <th>P3569_x</th>\n      <th>P3569_y</th>\n      <th>P3570_x</th>\n      <th>P3570_y</th>\n      <th>P3571_x</th>\n      <th>P3571_y</th>\n      <th>...</th>\n      <th>P3573_x</th>\n      <th>P3573_y</th>\n      <th>P3574_x</th>\n      <th>P3574_y</th>\n      <th>P3575_x</th>\n      <th>P3575_y</th>\n      <th>P3576_x</th>\n      <th>P3576_y</th>\n      <th>P3577_x</th>\n      <th>P3577_y</th>\n    </tr>\n  </thead>\n  <tbody>\n    <tr>\n      <th>0</th>\n      <td>0.84722</td>\n      <td>0.52855</td>\n      <td>0.65268</td>\n      <td>0.24792</td>\n      <td>0.66525</td>\n      <td>0.46562</td>\n      <td>0.68103</td>\n      <td>0.59083</td>\n      <td>0.62405</td>\n      <td>0.80669</td>\n      <td>...</td>\n      <td>0.60798</td>\n      <td>0.45155</td>\n      <td>0.50212</td>\n      <td>0.45314</td>\n      <td>0.62012</td>\n      <td>0.60667</td>\n      <td>0.51839</td>\n      <td>0.77140</td>\n      <td>0.50555</td>\n      <td>0.50863</td>\n    </tr>\n    <tr>\n      <th>1</th>\n      <td>0.84722</td>\n      <td>0.52855</td>\n      <td>0.65231</td>\n      <td>0.24513</td>\n      <td>0.66482</td>\n      <td>0.46548</td>\n      <td>0.68095</td>\n      <td>0.59054</td>\n      <td>0.62371</td>\n      <td>0.80594</td>\n      <td>...</td>\n      <td>0.60783</td>\n      <td>0.44918</td>\n      <td>0.50158</td>\n      <td>0.45544</td>\n      <td>0.61987</td>\n      <td>0.60474</td>\n      <td>0.51801</td>\n      <td>0.77130</td>\n      <td>0.50545</td>\n      <td>0.50532</td>\n    </tr>\n    <tr>\n      <th>2</th>\n      <td>0.84722</td>\n      <td>0.52855</td>\n      <td>0.65197</td>\n      <td>0.24387</td>\n      <td>0.66467</td>\n      <td>0.46537</td>\n      <td>0.68078</td>\n      <td>0.59035</td>\n      <td>0.62354</td>\n      <td>0.80601</td>\n      <td>...</td>\n      <td>0.60779</td>\n      <td>0.44866</td>\n      <td>0.50126</td>\n      <td>0.45662</td>\n      <td>0.61980</td>\n      <td>0.60422</td>\n      <td>0.51787</td>\n      <td>0.77080</td>\n      <td>0.50552</td>\n      <td>0.50524</td>\n    </tr>\n    <tr>\n      <th>3</th>\n      <td>0.84722</td>\n      <td>0.52855</td>\n      <td>0.65166</td>\n      <td>0.24288</td>\n      <td>0.66460</td>\n      <td>0.46488</td>\n      <td>0.68063</td>\n      <td>0.58987</td>\n      <td>0.62318</td>\n      <td>0.80604</td>\n      <td>...</td>\n      <td>0.60762</td>\n      <td>0.44898</td>\n      <td>0.50119</td>\n      <td>0.45815</td>\n      <td>0.61976</td>\n      <td>0.60397</td>\n      <td>0.51773</td>\n      <td>0.77031</td>\n      <td>0.50563</td>\n      <td>0.50524</td>\n    </tr>\n    <tr>\n      <th>4</th>\n      <td>0.84722</td>\n      <td>0.52855</td>\n      <td>0.65141</td>\n      <td>0.24251</td>\n      <td>0.66452</td>\n      <td>0.46469</td>\n      <td>0.68052</td>\n      <td>0.58934</td>\n      <td>0.62286</td>\n      <td>0.80626</td>\n      <td>...</td>\n      <td>0.60748</td>\n      <td>0.44888</td>\n      <td>0.50114</td>\n      <td>0.45986</td>\n      <td>0.61967</td>\n      <td>0.60417</td>\n      <td>0.51759</td>\n      <td>0.77008</td>\n      <td>0.50576</td>\n      <td>0.50531</td>\n    </tr>\n  </tbody>\n</table>\n<p>5 rows × 22 columns</p>\n</div>"
     },
     "metadata": {},
     "execution_count": 8
    }
   ],
   "source": [
    "game_dataset.tracking.team('FIFATMA').head()"
   ]
  },
  {
   "source": [
    "Final example, let's say you want to get the x coordiante data, only for the field players (excluding goalkeeper) for team_id `FIFATMA`, you can get that by doing:"
   ],
   "cell_type": "markdown",
   "metadata": {}
  },
  {
   "cell_type": "code",
   "execution_count": 6,
   "metadata": {},
   "outputs": [
    {
     "output_type": "execute_result",
     "data": {
      "text/plain": "   P3568_x  P3569_x  P3570_x  P3571_x  P3572_x  P3573_x  P3574_x  P3575_x  \\\n0  0.65268  0.66525  0.68103  0.62405  0.50533  0.60798  0.50212  0.62012   \n1  0.65231  0.66482  0.68095  0.62371  0.50461  0.60783  0.50158  0.61987   \n2  0.65197  0.66467  0.68078  0.62354  0.50430  0.60779  0.50126  0.61980   \n3  0.65166  0.66460  0.68063  0.62318  0.50394  0.60762  0.50119  0.61976   \n4  0.65141  0.66452  0.68052  0.62286  0.50371  0.60748  0.50114  0.61967   \n\n   P3576_x  P3577_x  \n0  0.51839  0.50555  \n1  0.51801  0.50545  \n2  0.51787  0.50552  \n3  0.51773  0.50563  \n4  0.51759  0.50576  ",
      "text/html": "<div>\n<style scoped>\n    .dataframe tbody tr th:only-of-type {\n        vertical-align: middle;\n    }\n\n    .dataframe tbody tr th {\n        vertical-align: top;\n    }\n\n    .dataframe thead th {\n        text-align: right;\n    }\n</style>\n<table border=\"1\" class=\"dataframe\">\n  <thead>\n    <tr style=\"text-align: right;\">\n      <th></th>\n      <th>P3568_x</th>\n      <th>P3569_x</th>\n      <th>P3570_x</th>\n      <th>P3571_x</th>\n      <th>P3572_x</th>\n      <th>P3573_x</th>\n      <th>P3574_x</th>\n      <th>P3575_x</th>\n      <th>P3576_x</th>\n      <th>P3577_x</th>\n    </tr>\n  </thead>\n  <tbody>\n    <tr>\n      <th>0</th>\n      <td>0.65268</td>\n      <td>0.66525</td>\n      <td>0.68103</td>\n      <td>0.62405</td>\n      <td>0.50533</td>\n      <td>0.60798</td>\n      <td>0.50212</td>\n      <td>0.62012</td>\n      <td>0.51839</td>\n      <td>0.50555</td>\n    </tr>\n    <tr>\n      <th>1</th>\n      <td>0.65231</td>\n      <td>0.66482</td>\n      <td>0.68095</td>\n      <td>0.62371</td>\n      <td>0.50461</td>\n      <td>0.60783</td>\n      <td>0.50158</td>\n      <td>0.61987</td>\n      <td>0.51801</td>\n      <td>0.50545</td>\n    </tr>\n    <tr>\n      <th>2</th>\n      <td>0.65197</td>\n      <td>0.66467</td>\n      <td>0.68078</td>\n      <td>0.62354</td>\n      <td>0.50430</td>\n      <td>0.60779</td>\n      <td>0.50126</td>\n      <td>0.61980</td>\n      <td>0.51787</td>\n      <td>0.50552</td>\n    </tr>\n    <tr>\n      <th>3</th>\n      <td>0.65166</td>\n      <td>0.66460</td>\n      <td>0.68063</td>\n      <td>0.62318</td>\n      <td>0.50394</td>\n      <td>0.60762</td>\n      <td>0.50119</td>\n      <td>0.61976</td>\n      <td>0.51773</td>\n      <td>0.50563</td>\n    </tr>\n    <tr>\n      <th>4</th>\n      <td>0.65141</td>\n      <td>0.66452</td>\n      <td>0.68052</td>\n      <td>0.62286</td>\n      <td>0.50371</td>\n      <td>0.60748</td>\n      <td>0.50114</td>\n      <td>0.61967</td>\n      <td>0.51759</td>\n      <td>0.50576</td>\n    </tr>\n  </tbody>\n</table>\n</div>"
     },
     "metadata": {},
     "execution_count": 6
    }
   ],
   "source": [
    "game_dataset.tracking.team('FIFATMA').players('field').dimension('x').head()"
   ]
  },
  {
   "source": [
    "## Events\n",
    "\n",
    "Similarly, GameDataset.events holds a TrackingFrame with all the tacking data of the game, and if you want to filter it, you can do so using it's methods. For example to get all event that go into the opponent box you can do `game_dataset.events.into(Zones.OPPONENT_BOX)`, or if you want to get all the passes you can do:"
   ],
   "cell_type": "markdown",
   "metadata": {}
  },
  {
   "cell_type": "code",
   "execution_count": 15,
   "metadata": {},
   "outputs": [
    {
     "output_type": "execute_result",
     "data": {
      "text/plain": "  event_id event_type    result success  period_id  timestamp  end_timestamp  \\\n1     None       PASS  COMPLETE    True          1      14.44          15.08   \n3     None       PASS  COMPLETE    True          1      15.36          17.04   \n5     None       PASS  COMPLETE    True          1      18.60          20.28   \n7     None       PASS  COMPLETE    True          1      21.20          23.20   \n9     None       PASS  COMPLETE    True          1      23.92          25.12   \n\n  ball_state ball_owning_team  team_id player_id  coordinates_x  \\\n1      alive          FIFATMA  FIFATMA     P3577        0.49875   \n3      alive          FIFATMA  FIFATMA     P3574        0.50300   \n5      alive          FIFATMA  FIFATMA     P3575        0.33014   \n7      alive          FIFATMA  FIFATMA     P3569        0.19071   \n9      alive          FIFATMA  FIFATMA     P3570        0.20244   \n\n   coordinates_y  end_coordinates_x  end_coordinates_y receiver_player_id  \\\n1        0.51275            0.50136            0.51295              P3574   \n3        0.51500            0.36627            0.36551              P3575   \n5        0.40293            0.19398            0.60179              P3569   \n7        0.57078            0.20094            0.18478              P3570   \n9        0.18002            0.31899            0.01941              P3571   \n\n  inverted  \n1     True  \n3     True  \n5     True  \n7     True  \n9     True  ",
      "text/html": "<div>\n<style scoped>\n    .dataframe tbody tr th:only-of-type {\n        vertical-align: middle;\n    }\n\n    .dataframe tbody tr th {\n        vertical-align: top;\n    }\n\n    .dataframe thead th {\n        text-align: right;\n    }\n</style>\n<table border=\"1\" class=\"dataframe\">\n  <thead>\n    <tr style=\"text-align: right;\">\n      <th></th>\n      <th>event_id</th>\n      <th>event_type</th>\n      <th>result</th>\n      <th>success</th>\n      <th>period_id</th>\n      <th>timestamp</th>\n      <th>end_timestamp</th>\n      <th>ball_state</th>\n      <th>ball_owning_team</th>\n      <th>team_id</th>\n      <th>player_id</th>\n      <th>coordinates_x</th>\n      <th>coordinates_y</th>\n      <th>end_coordinates_x</th>\n      <th>end_coordinates_y</th>\n      <th>receiver_player_id</th>\n      <th>inverted</th>\n    </tr>\n  </thead>\n  <tbody>\n    <tr>\n      <th>1</th>\n      <td>None</td>\n      <td>PASS</td>\n      <td>COMPLETE</td>\n      <td>True</td>\n      <td>1</td>\n      <td>14.44</td>\n      <td>15.08</td>\n      <td>alive</td>\n      <td>FIFATMA</td>\n      <td>FIFATMA</td>\n      <td>P3577</td>\n      <td>0.49875</td>\n      <td>0.51275</td>\n      <td>0.50136</td>\n      <td>0.51295</td>\n      <td>P3574</td>\n      <td>True</td>\n    </tr>\n    <tr>\n      <th>3</th>\n      <td>None</td>\n      <td>PASS</td>\n      <td>COMPLETE</td>\n      <td>True</td>\n      <td>1</td>\n      <td>15.36</td>\n      <td>17.04</td>\n      <td>alive</td>\n      <td>FIFATMA</td>\n      <td>FIFATMA</td>\n      <td>P3574</td>\n      <td>0.50300</td>\n      <td>0.51500</td>\n      <td>0.36627</td>\n      <td>0.36551</td>\n      <td>P3575</td>\n      <td>True</td>\n    </tr>\n    <tr>\n      <th>5</th>\n      <td>None</td>\n      <td>PASS</td>\n      <td>COMPLETE</td>\n      <td>True</td>\n      <td>1</td>\n      <td>18.60</td>\n      <td>20.28</td>\n      <td>alive</td>\n      <td>FIFATMA</td>\n      <td>FIFATMA</td>\n      <td>P3575</td>\n      <td>0.33014</td>\n      <td>0.40293</td>\n      <td>0.19398</td>\n      <td>0.60179</td>\n      <td>P3569</td>\n      <td>True</td>\n    </tr>\n    <tr>\n      <th>7</th>\n      <td>None</td>\n      <td>PASS</td>\n      <td>COMPLETE</td>\n      <td>True</td>\n      <td>1</td>\n      <td>21.20</td>\n      <td>23.20</td>\n      <td>alive</td>\n      <td>FIFATMA</td>\n      <td>FIFATMA</td>\n      <td>P3569</td>\n      <td>0.19071</td>\n      <td>0.57078</td>\n      <td>0.20094</td>\n      <td>0.18478</td>\n      <td>P3570</td>\n      <td>True</td>\n    </tr>\n    <tr>\n      <th>9</th>\n      <td>None</td>\n      <td>PASS</td>\n      <td>COMPLETE</td>\n      <td>True</td>\n      <td>1</td>\n      <td>23.92</td>\n      <td>25.12</td>\n      <td>alive</td>\n      <td>FIFATMA</td>\n      <td>FIFATMA</td>\n      <td>P3570</td>\n      <td>0.20244</td>\n      <td>0.18002</td>\n      <td>0.31899</td>\n      <td>0.01941</td>\n      <td>P3571</td>\n      <td>True</td>\n    </tr>\n  </tbody>\n</table>\n</div>"
     },
     "metadata": {},
     "execution_count": 15
    }
   ],
   "source": [
    "game_dataset.events.type('PASS').head()"
   ]
  },
  {
   "cell_type": "markdown",
   "metadata": {},
   "source": [
    "Since in this game tracking and event daa come from the same provider, GameDataset.metadata for this case is the same as GameDataset.tracking.metadata and GameDataset.events.metadata. There ou can access metadata about the data like frame rate, field dimensions, teams and players details, etc. Like:"
   ]
  },
  {
   "cell_type": "code",
   "execution_count": 23,
   "metadata": {},
   "outputs": [
    {
     "output_type": "execute_result",
     "data": {
      "text/plain": "'Player 5'"
     },
     "metadata": {},
     "execution_count": 23
    }
   ],
   "source": [
    "game_dataset.metadata.teams[0].players[5].name"
   ]
  },
  {
   "cell_type": "code",
   "execution_count": 24,
   "metadata": {},
   "outputs": [
    {
     "output_type": "execute_result",
     "data": {
      "text/plain": "25"
     },
     "metadata": {},
     "execution_count": 24
    }
   ],
   "source": [
    "game_dataset.metadata.frame_rate"
   ]
  },
  {
   "cell_type": "code",
   "execution_count": 25,
   "metadata": {},
   "outputs": [
    {
     "output_type": "execute_result",
     "data": {
      "text/plain": "Score(home=0, away=2)"
     },
     "metadata": {},
     "execution_count": 25
    }
   ],
   "source": [
    "game_dataset.metadata.score"
   ]
  },
  {
   "source": [
    "For more details about metadata attributes and methods see [kloppy's documentation](https://kloppy.pysport.org/)."
   ],
   "cell_type": "markdown",
   "metadata": {}
  }
 ]
}